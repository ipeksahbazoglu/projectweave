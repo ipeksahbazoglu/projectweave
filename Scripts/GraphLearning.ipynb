{
 "cells": [
  {
   "cell_type": "code",
   "execution_count": 1,
   "id": "8ad6af28",
   "metadata": {},
   "outputs": [
    {
     "name": "stderr",
     "output_type": "stream",
     "text": [
      "/Users/ipeksahbazoglu/opt/anaconda3/envs/velapartners/lib/python3.10/site-packages/tqdm/auto.py:22: TqdmWarning: IProgress not found. Please update jupyter and ipywidgets. See https://ipywidgets.readthedocs.io/en/stable/user_install.html\n",
      "  from .autonotebook import tqdm as notebook_tqdm\n"
     ]
    }
   ],
   "source": [
    "import os\n",
    "\n",
    "import numpy as np\n",
    "import pykeen\n",
    "from matplotlib import pyplot as plt\n",
    "\n",
    "from pykeen.pipeline import pipeline\n",
    "from pykeen.triples import TriplesFactory\n",
    "\n",
    "%matplotlib inline\n",
    "%config InlineBackend.figure_format = 'svg'\n",
    "import sys\n",
    "sys.path.append(\"/Users/ipeksahbazoglu/VSCode/ProjectWeave/Modules\")\n",
    "\n",
    "from knowledgebase import KB\n",
    "from knowledgeembedding import KGE\n",
    "import pickle\n",
    "import pandas as pd"
   ]
  },
  {
   "cell_type": "code",
   "execution_count": 2,
   "id": "43fcab3e",
   "metadata": {},
   "outputs": [
    {
     "name": "stderr",
     "output_type": "stream",
     "text": [
      "using automatically assigned random_state=3847847162\n"
     ]
    }
   ],
   "source": [
    "kb = KB()\n",
    "with open('/Users/ipeksahbazoglu/VSCode/ProjectWeave/KnowledgeBase/kb_comp.pickle', 'rb') as handle:\n",
    "    kb = pickle.load(handle)\n",
    "\n",
    "df, tf, train, test = KGE.kb2tf(kb, split = [0.8, 0.2])\n"
   ]
  }
 ],
 "metadata": {
  "kernelspec": {
   "display_name": "velapartners",
   "language": "python",
   "name": "velapartners"
  },
  "language_info": {
   "codemirror_mode": {
    "name": "ipython",
    "version": 3
   },
   "file_extension": ".py",
   "mimetype": "text/x-python",
   "name": "python",
   "nbconvert_exporter": "python",
   "pygments_lexer": "ipython3",
   "version": "3.10.8"
  }
 },
 "nbformat": 4,
 "nbformat_minor": 5
}
