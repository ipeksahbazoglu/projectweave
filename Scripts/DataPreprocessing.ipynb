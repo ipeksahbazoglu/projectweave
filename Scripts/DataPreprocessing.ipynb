{
 "cells": [
  {
   "cell_type": "markdown",
   "id": "61fd95aa",
   "metadata": {},
   "source": [
    "Constructing the company dataset, joining moneyball 1.1 successful and failed companies + scraping linkedin"
   ]
  },
  {
   "cell_type": "code",
   "execution_count": 6,
   "id": "50bda3f4",
   "metadata": {},
   "outputs": [],
   "source": [
    "import pandas as pd\n",
    "import openpyxl"
   ]
  },
  {
   "cell_type": "code",
   "execution_count": 8,
   "id": "19dcc27c",
   "metadata": {},
   "outputs": [],
   "source": [
    "s_1 = pd.read_excel(\"/Users/ipeksahbazoglu/VSCode/ProjectWeave/Datasets/s-mball.xlsx\", sheet_name = 'Company')\n",
    "s_2 = pd.read_excel(\"/Users/ipeksahbazoglu/VSCode/ProjectWeave/Datasets/s-mball.xlsx\", sheet_name = 'Long company descriptions')\n",
    "s_3 = pd.read_excel(\"/Users/ipeksahbazoglu/VSCode/ProjectWeave/Datasets/s-mball.xlsx\", sheet_name = 'Funding rounds')\n",
    "s_4 = pd.read_excel(\"/Users/ipeksahbazoglu/VSCode/ProjectWeave/Datasets/s-mball.xlsx\", sheet_name = 'Founder Linkedin URLs')\n",
    "weave_successful = []"
   ]
  },
  {
   "cell_type": "code",
   "execution_count": 9,
   "id": "f9720c82",
   "metadata": {},
   "outputs": [],
   "source": [
    "df_s = pd.merge(s_1, s_2, on = ['org_uuid', 'org_name']).drop(columns = 'short_description')\n",
    "df_s = pd.merge(df_s, s_3, on = ['org_uuid', 'org_name'])\n",
    "df_s = pd.merge(df_s, s_4, on = ['org_uuid', 'org_name'])\n",
    "df_s['founded_on'] = [c.strftime(\"%Y\") for c in df_s['founded_on']]\n",
    "df_s.dropna(inplace = True)\n",
    "df_s = df_s[df_s['raised_amount_usd'] > 0]"
   ]
  },
  {
   "cell_type": "code",
   "execution_count": 10,
   "id": "d2bb5de1",
   "metadata": {},
   "outputs": [],
   "source": [
    "df_inv_agg_s = df_s.groupby(['org_name', 'org_uuid'])[['investor_count', 'raised_amount_usd']].sum().reset_index()\n",
    "df_inv_agg_s['investor_number_normalised']=(df_inv_agg_s['investor_count']-df_inv_agg_s['investor_count'].mean())/df_inv_agg_s['investor_count'].std()\n",
    "df_inv_agg_s['raised_amount_usd_normalised']=(df_inv_agg_s['raised_amount_usd']-df_inv_agg_s['raised_amount_usd'].mean())/df_inv_agg_s['raised_amount_usd'].std()"
   ]
  },
  {
   "cell_type": "code",
   "execution_count": 11,
   "id": "7e36fd39",
   "metadata": {},
   "outputs": [],
   "source": [
    "investor_number = []\n",
    "for c in df_inv_agg_s['investor_number_normalised']:\n",
    "    if c <= 0.1:\n",
    "        investor_number.append('low')\n",
    "    elif c >= 0.1 and c < 1.5:\n",
    "        investor_number.append('mid')\n",
    "    elif c >= 1.5:\n",
    "        investor_number.append('high')\n",
    "\n",
    "df_inv_agg_s['investor_number'] = investor_number\n",
    "#df_inv_agg_s.drop(columns = ['investor_count','investor_number_normalised'], inplace = True)\n"
   ]
  },
  {
   "cell_type": "code",
   "execution_count": 12,
   "id": "611aeed3",
   "metadata": {},
   "outputs": [],
   "source": [
    "raised_amount = []\n",
    "for c in df_inv_agg_s['raised_amount_usd_normalised']:\n",
    "    if c <= 0.1:\n",
    "        raised_amount.append('low')\n",
    "    elif c >= 0.1 and c < 2:\n",
    "        raised_amount.append('mid')\n",
    "    elif c >= 2:\n",
    "        raised_amount.append('high')\n",
    "df_inv_agg_s['investment_size'] = raised_amount\n"
   ]
  },
  {
   "cell_type": "code",
   "execution_count": 14,
   "id": "f7311a2d",
   "metadata": {
    "scrolled": true
   },
   "outputs": [],
   "source": [
    "df_s = df_s.merge(df_inv_agg_s[['org_name', 'org_uuid','investor_number', 'investment_size']], how = 'left', on = ['org_name', 'org_uuid'])\n",
    "df_s.drop(columns = 'category_list', inplace = True)\n",
    "df_s.rename(columns = {'category_groups_list': 'category_list'}, inplace = True)\n",
    "#df_s.to_excel(r'/Users/ipeksahbazoglu/VSCode/VelaPartners/successful_comp.xlsx', index=False)\n"
   ]
  },
  {
   "cell_type": "code",
   "execution_count": 19,
   "id": "18baf286",
   "metadata": {},
   "outputs": [],
   "source": [
    "fail_1 = pd.read_excel(\"/Users/ipeksahbazoglu/VSCode/ProjectWeave/Datasets/fail-mball.xlsx\", sheet_name = 'Company')\n",
    "fail_2 = pd.read_excel(\"/Users/ipeksahbazoglu/VSCode/ProjectWeave/Datasets/fail-mball.xlsx\", sheet_name = 'Long company descriptions')\n",
    "fail_3 = pd.read_excel(\"/Users/ipeksahbazoglu/VSCode/ProjectWeave/Datasets/fail-mball.xlsx\", sheet_name = 'Funding rounds')\n",
    "fail_4 = pd.read_excel(\"/Users/ipeksahbazoglu/VSCode/ProjectWeave/Datasets/fail-mball.xlsx\", sheet_name = 'Founder Linkedin URLs')\n",
    "weave_fail = []\n"
   ]
  },
  {
   "cell_type": "code",
   "execution_count": 20,
   "id": "402afa17",
   "metadata": {
    "scrolled": true
   },
   "outputs": [],
   "source": [
    "df_f = pd.merge(fail_1, fail_2, on = ['org_uuid', 'org_name']).drop(columns = 'short_description')\n",
    "df_f = pd.merge(df_f, fail_3, on = ['org_uuid', 'org_name'])\n",
    "df_f = pd.merge(df_f, fail_4, on = ['org_uuid', 'org_name'])\n",
    "df_f['founded_on'] = [c.strftime(\"%Y\") for c in df_f['founded_on']]\n",
    "df_f = df_f[df_f['raised_amount_usd'] > 0]\n",
    "df_f.dropna(inplace = True)"
   ]
  },
  {
   "cell_type": "code",
   "execution_count": 22,
   "id": "6a75e2de",
   "metadata": {},
   "outputs": [],
   "source": [
    "df_inv_agg_f = df_f.groupby(['org_name', 'org_uuid'])[['investor_count', 'raised_amount_usd']].sum().reset_index()\n",
    "df_inv_agg_f['investor_number_normalised']=(df_inv_agg_f['investor_count']-df_inv_agg_f['investor_count'].mean())/df_inv_agg_f['investor_count'].std()\n",
    "df_inv_agg_f['raised_amount_usd_normalised']=(df_inv_agg_f['raised_amount_usd']-df_inv_agg_f['raised_amount_usd'].mean())/df_inv_agg_f['raised_amount_usd'].std()"
   ]
  },
  {
   "cell_type": "code",
   "execution_count": 23,
   "id": "64810c33",
   "metadata": {
    "scrolled": true
   },
   "outputs": [],
   "source": [
    "investor_number = []\n",
    "for c in df_inv_agg_f['investor_number_normalised']:\n",
    "    if c <= 0.1:\n",
    "        investor_number.append('low')\n",
    "    elif c >= 0.1 and c < 1.5:\n",
    "        investor_number.append('mid')\n",
    "    elif c >= 1.5:\n",
    "        investor_number.append('high')\n",
    "\n",
    "\n",
    "df_inv_agg_f['investor_number'] = investor_number\n",
    "df_inv_agg_f.drop(columns = ['investor_count','investor_number_normalised'], inplace = True)\n",
    "raised_amount = []\n",
    "for c in df_inv_agg_f['raised_amount_usd_normalised']:\n",
    "    if c <= 0.1:\n",
    "        raised_amount.append('low')\n",
    "    elif c >= 0.1 and c < 2:\n",
    "        raised_amount.append('mid')\n",
    "    elif c >= 2:\n",
    "        raised_amount.append('high')\n",
    "\n",
    "\n",
    "df_inv_agg_f['investment_size'] = raised_amount\n",
    "df_inv_agg_f.drop(columns = ['raised_amount_usd_normalised', 'raised_amount_usd'], inplace = True)\n",
    "\n",
    "\n"
   ]
  },
  {
   "cell_type": "code",
   "execution_count": 24,
   "id": "0c83ecb8",
   "metadata": {},
   "outputs": [],
   "source": [
    "df_f = df_f.merge(df_inv_agg_f, how = 'left', on = ['org_name', 'org_uuid'])\n",
    "df_f.rename(columns = {'category_groups_list': 'category'}, inplace = True)\n",
    "df_f = df_f[['org_uuid', 'org_name', 'founded_on',\n",
    "       'category_list','country_code', 'city', 'long_description',\n",
    "       'investment_type', 'investors_names', 'investors_uuids',\n",
    "       'founder_linkedin_url', 'investor_number', 'investment_size']]\n",
    "#df_f.to_excel(r'/Users/ipeksahbazoglu/VSCode/VelaPartners/failed_comp.xlsx', index=False)\n"
   ]
  },
  {
   "cell_type": "code",
   "execution_count": 47,
   "id": "fee45fd4",
   "metadata": {},
   "outputs": [],
   "source": [
    "inv = pd.read_csv('/Users/ipeksahbazoglu/VSCode/ProjectWeave/Datasets/investor_profiles.csv')\n",
    "inv.dropna(inplace = True)\n",
    "inv['investment_count_normalised']=(inv['investment_count']-inv['investment_count'].mean())/inv['investment_count'].std()"
   ]
  },
  {
   "cell_type": "code",
   "execution_count": 48,
   "id": "51a5afb9",
   "metadata": {},
   "outputs": [],
   "source": [
    "investment_count = []\n",
    "for c in inv['investment_count_normalised']:\n",
    "    if c <= 0.1:\n",
    "        investment_count.append('D')\n",
    "    elif c >= 0.1 and c < 1:\n",
    "        investment_count.append('C')\n",
    "    elif c >= 1 and c < 10:\n",
    "        investment_count.append('B')\n",
    "    elif c >= 10:\n",
    "        investment_count.append('A')\n",
    "\n",
    "inv['investment_count'] = investment_count\n",
    "inv.drop(columns = 'investment_count_normalised', inplace = True)\n",
    "#inv.to_excel(r'/Users/ipeksahbazoglu/VSCode/VelaPartners/investor-df.xlsx', index=False)\n"
   ]
  }
 ],
 "metadata": {
  "kernelspec": {
   "display_name": "velapartners",
   "language": "python",
   "name": "velapartners"
  },
  "language_info": {
   "codemirror_mode": {
    "name": "ipython",
    "version": 3
   },
   "file_extension": ".py",
   "mimetype": "text/x-python",
   "name": "python",
   "nbconvert_exporter": "python",
   "pygments_lexer": "ipython3",
   "version": "3.10.8"
  }
 },
 "nbformat": 4,
 "nbformat_minor": 5
}
